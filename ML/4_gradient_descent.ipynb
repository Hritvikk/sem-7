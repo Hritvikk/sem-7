{
 "cells": [
  {
   "cell_type": "code",
   "execution_count": 15,
   "metadata": {},
   "outputs": [],
   "source": [
    "cur_x=2\n",
    "rate=0.01\n",
    "precision = 0.000001\n",
    "step_size=1\n",
    "max_iters=1000\n",
    "iters=0\n",
    "def fn(x):\n",
    "    return 2*(x+3)"
   ]
  },
  {
   "cell_type": "code",
   "execution_count": 16,
   "metadata": {},
   "outputs": [
    {
     "name": "stdout",
     "output_type": "stream",
     "text": [
      "-2.9999999915851645\n"
     ]
    }
   ],
   "source": [
    "while prev_step_size>precision and iters<max_iters:\n",
    "    prev_x=cur_x\n",
    "    cur_x-=rate*fn(prev_x)\n",
    "    step_size=abs(prev_x - cur_x)\n",
    "    iters+=1\n",
    "    \n",
    "print(cur_x)"
   ]
  },
  {
   "cell_type": "code",
   "execution_count": 8,
   "metadata": {},
   "outputs": [],
   "source": []
  },
  {
   "cell_type": "code",
   "execution_count": null,
   "metadata": {},
   "outputs": [],
   "source": []
  }
 ],
 "metadata": {
  "kernelspec": {
   "display_name": "Python 3",
   "language": "python",
   "name": "python3"
  },
  "language_info": {
   "codemirror_mode": {
    "name": "ipython",
    "version": 3
   },
   "file_extension": ".py",
   "mimetype": "text/x-python",
   "name": "python",
   "nbconvert_exporter": "python",
   "pygments_lexer": "ipython3",
   "version": "3.7.9"
  }
 },
 "nbformat": 4,
 "nbformat_minor": 4
}
